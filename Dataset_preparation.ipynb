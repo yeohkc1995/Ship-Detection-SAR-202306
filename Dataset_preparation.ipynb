{
  "cells": [
    {
      "cell_type": "markdown",
      "metadata": {
        "id": "x1Lz0AoH1lBu"
      },
      "source": [
        "# Data Preprocessing"
      ]
    },
    {
      "cell_type": "code",
      "execution_count": null,
      "metadata": {
        "colab": {
          "base_uri": "https://localhost:8080/"
        },
        "id": "nZd-Rj7ZF_-w",
        "outputId": "f60fdfce-1501-4c42-e431-cc90778d0999"
      },
      "outputs": [
        {
          "name": "stdout",
          "output_type": "stream",
          "text": [
            "Mounted at /content/drive\n"
          ]
        }
      ],
      "source": [
        "from google.colab import drive\n",
        "import os\n",
        "drive.mount('/content/drive')"
      ]
    },
    {
      "cell_type": "code",
      "execution_count": null,
      "metadata": {
        "id": "TW76FBMYDTsh"
      },
      "outputs": [],
      "source": [
        "import xml.etree.ElementTree as ET\n",
        "import glob\n",
        "import pandas as pd\n",
        "import os\n",
        "\n",
        "\n",
        "# Initialize empty lists to store the extracted values\n",
        "elaborated_types = []\n",
        "center_x_values = []\n",
        "center_y_values = []\n",
        "image_paths = []\n",
        "border_x_values = []\n",
        "border_y_values = []\n",
        "head_x_values = []\n",
        "head_y_values = []\n",
        "tail_x_values = []\n",
        "tail_y_values = []\n",
        "\n",
        "\n",
        "\n",
        "\n",
        "\n",
        "def sortdata(main_directory):\n",
        "\n",
        "\n",
        "  for folder in os.listdir(main_directory):\n",
        "\n",
        "    global elaborated_types\n",
        "    global center_x_values\n",
        "    global center_y_values\n",
        "    global image_paths\n",
        "    global border_x_values\n",
        "    global border_y_values\n",
        "    global head_x_values\n",
        "    global head_y_values\n",
        "    global tail_x_values\n",
        "    global tail_y_values\n",
        "\n",
        "\n",
        "    images_directory = os.path.join(main_directory, folder, folder, 'Patch')\n",
        "    xml_file_path = os.path.join(main_directory, folder, folder, 'Ship.xml')\n",
        "\n",
        "    # List all XML files in the directory\n",
        "    images = glob.glob(f'{images_directory}/*.tif')\n",
        "\n",
        "    # Parse the XML file\n",
        "    tree = ET.parse(xml_file_path)\n",
        "    root = tree.getroot()\n",
        "\n",
        "    # Iterate through each <Ship> tag\n",
        "    for ship in root.iter('ship'):\n",
        "        # Extract values from the child elements\n",
        "        elaborated_type = ship.find('MarineTrafficInformation/Elaborated_type').text\n",
        "        head_x = int(ship.find('SARShipInformation/Head_x').text)\n",
        "        head_y = int(ship.find('SARShipInformation/Head_y').text)\n",
        "        tail_x = int(ship.find('SARShipInformation/Tail_x').text)\n",
        "        tail_y = int(ship.find('SARShipInformation/Tail_y').text)\n",
        "\n",
        "\n",
        "        height = abs(head_x - tail_x)\n",
        "        width = abs(head_y - tail_y)\n",
        "\n",
        "\n",
        "        if (elaborated_type == 'Container Ship' or elaborated_type == 'Tanker' or elaborated_type == 'Bulk Carrier') and height <= 64 and width <= 64:\n",
        "          center_x = ship.find('SARShipInformation/Center_x').text\n",
        "          center_y = ship.find('SARShipInformation/Center_y').text\n",
        "\n",
        "          # Append the values to the respective lists\n",
        "          elaborated_types.append(elaborated_type)\n",
        "          center_x_values.append(center_x)\n",
        "          center_y_values.append(center_y)\n",
        "          border_x = int(ship.find('SARShipInformation/LowerRight_x').text)\n",
        "          border_y = int(ship.find('SARShipInformation/LowerRight_y').text)\n",
        "          border_x_values.append(border_x)\n",
        "          border_y_values.append(border_y)\n",
        "          head_x_values.append(head_x)\n",
        "          head_y_values.append(head_y)\n",
        "          tail_x_values.append(tail_x)\n",
        "          tail_y_values.append(tail_y)\n",
        "\n",
        "          # match XML to image\n",
        "          # Iterate through the files in the folder\n",
        "          for filename in os.listdir(images_directory):\n",
        "              file_path = os.path.join(images_directory, filename)\n",
        "\n",
        "              # Check if the file is an image and contains both phrases\n",
        "              if center_x in filename and center_y in filename:\n",
        "                  image_paths.append(file_path)\n",
        "                  break\n",
        "\n",
        "\n",
        "main_directory = '/content/drive/MyDrive/OpenSARShip_1'\n",
        "sortdata(main_directory)\n",
        "\n",
        "# Create a DataFrame from the extracted values\n",
        "data = {\n",
        "    'path': image_paths,\n",
        "    'elaborated_type': elaborated_types,\n",
        "    'Center_x': center_x_values,\n",
        "    'Center_y': center_y_values,\n",
        "    'border_x': border_x_values,\n",
        "    'border_y': border_y_values,\n",
        "    'head_x': head_x_values,\n",
        "    'head_y': head_y_values,\n",
        "    'tail_x': tail_x_values,\n",
        "    'tail_y': tail_y_values\n",
        "}\n",
        "df = pd.DataFrame(data)\n",
        "\n",
        "\n",
        "\n",
        "\n"
      ]
    },
    {
      "cell_type": "code",
      "execution_count": null,
      "metadata": {
        "id": "yF_-lVpcG9r1"
      },
      "outputs": [],
      "source": [
        "!pip install rasterio"
      ]
    },
    {
      "cell_type": "code",
      "execution_count": null,
      "metadata": {
        "id": "LanStKrNIq7i"
      },
      "outputs": [],
      "source": [
        "import rasterio\n",
        "import numpy as np"
      ]
    },
    {
      "cell_type": "code",
      "execution_count": null,
      "metadata": {
        "id": "irFzxZqhItzH"
      },
      "outputs": [],
      "source": [
        "# Iterate through dataframe and process each image using rasterio\n",
        "\n",
        "\n",
        "vv_arrays = []\n",
        "bb_arrays = []\n",
        "\n",
        "\n",
        "\n",
        "for index, row in df.iterrows():\n",
        "\n",
        "  image_path = row['path']\n",
        "  image = rasterio.open(image_path)\n",
        "  image_arr = image.read()\n",
        "  size = np.shape(image_arr)[1]\n",
        "\n",
        "  if size >= 64:\n",
        "    vv_arr = np.vectorize(complex)(image_arr[2], image_arr[3])\n",
        "\n",
        "    # get bounding box coordinates\n",
        "    bb1 = row['tail_x'] - row['border_x']\n",
        "    bb2 = row['head_y'] - row['border_y']\n",
        "    bb3 = row['head_x'] - row['border_x']\n",
        "    bb4 = row['tail_y'] - row['border_y']\n",
        "\n",
        "\n",
        "    xmin = min(bb1, bb3)\n",
        "    xmax = max(bb1, bb3)\n",
        "    ymin = min(bb2, bb4)\n",
        "    ymax = max(bb2, bb4)\n",
        "\n",
        "\n",
        "    if (ymax - ymin) <= 2:\n",
        "      ymin = ymin - 4\n",
        "      ymax = ymax + 4\n",
        "    elif (ymax - ymin) <=3:\n",
        "      ymin = ymin - 3\n",
        "      ymax = ymax + 3\n",
        "\n",
        "\n",
        "    bb = np.array([ymin, xmin, ymax, xmax])\n",
        "\n",
        "\n",
        "\n",
        "    # create mask\n",
        "    rows = vv_arr.shape[1]\n",
        "    cols = vv_arr.shape[1]\n",
        "    Y = np.zeros((rows, cols))\n",
        "    bb = bb.astype(np.int)\n",
        "    Y[bb[0]:bb[2], bb[1]:bb[3]] = 1.\n",
        "\n",
        "\n",
        "    # center crop image and bounding box mask\n",
        "\n",
        "    def center_crop(im, w=64, h=64):\n",
        "      center = im.shape\n",
        "      x = center[1]/2 - w/2\n",
        "      y = center[0]/2 - h/2\n",
        "      cropped = im[int(y):int(y+h), int(x):int(x+w)]\n",
        "      return cropped\n",
        "\n",
        "    def mask_to_bb(Y):\n",
        "      \"\"\"Convert mask Y to a bounding box, assumes 0 as background nonzero object\"\"\"\n",
        "      cols, rows = np.nonzero(Y)\n",
        "      if len(cols)==0:\n",
        "          return np.zeros(4, dtype=np.float32)\n",
        "      top_row = np.min(rows)\n",
        "      left_col = np.min(cols)\n",
        "      bottom_row = np.max(rows)\n",
        "      right_col = np.max(cols)\n",
        "      return np.array([left_col, top_row, right_col, bottom_row], dtype=np.float32)\n",
        "\n",
        "\n",
        "    x, Y = center_crop(vv_arr), center_crop(Y)\n",
        "    Y = mask_to_bb(Y)\n",
        "    vv_arrays.append(x)\n",
        "    bb_arrays.append(Y)\n",
        "    print(Y.dtype)\n",
        "\n",
        "\n",
        "\n",
        "  else:\n",
        "    vv_arrays.append(None)\n",
        "    bb_arrays.append(None)\n",
        "\n",
        "\n",
        "\n",
        "\n",
        "processed_data = pd.DataFrame({'vv_arr': vv_arrays, 'bb_array': bb_arrays})\n",
        "\n",
        "# Concatenate the NumPy DataFrame to the original DataFrame\n",
        "data_df = pd.concat([df, processed_data], axis=1)\n",
        "\n"
      ]
    },
    {
      "cell_type": "code",
      "execution_count": null,
      "metadata": {
        "id": "EbsTeBS7n5z2"
      },
      "outputs": [],
      "source": [
        "# Drop rows without vv_arr\n",
        "data_df = data_df.dropna()\n"
      ]
    },
    {
      "cell_type": "code",
      "execution_count": null,
      "metadata": {
        "colab": {
          "base_uri": "https://localhost:8080/"
        },
        "id": "HQ4K5vwosE3e",
        "outputId": "4c054dfb-111e-477d-9513-173b315b8579"
      },
      "outputs": [
        {
          "name": "stdout",
          "output_type": "stream",
          "text": [
            "Container Ship    405\n",
            "Bulk Carrier      276\n",
            "Tanker            128\n",
            "Name: elaborated_type, dtype: int64\n"
          ]
        }
      ],
      "source": [
        "print(data_df['elaborated_type'].value_counts())"
      ]
    },
    {
      "cell_type": "code",
      "execution_count": null,
      "metadata": {
        "id": "IbI7HBDQuHqO"
      },
      "outputs": [],
      "source": [
        "import random\n",
        "\n",
        "num_rows_to_drop = 223\n",
        "num_rows_to_drop_2 = 136\n",
        "\n",
        "\n",
        "# Filter rows where 'elaborated_type' is equal to 'Container Ship'\n",
        "container_ship_rows = data_df[data_df['elaborated_type'] == 'Container Ship']\n",
        "bulk_carrier_rows = data_df[data_df['elaborated_type'] == 'Bulk Carrier']\n",
        "\n",
        "\n",
        "# Randomly select the rows to drop\n",
        "rows_to_drop = random.sample(container_ship_rows.index.tolist(), num_rows_to_drop)\n",
        "rows_to_drop_2 = random.sample(bulk_carrier_rows.index.tolist(), num_rows_to_drop_2)\n",
        "\n",
        "\n",
        "# Drop the selected rows from the original dataframe\n",
        "data_df.drop(rows_to_drop, inplace=True)\n",
        "data_df.drop(rows_to_drop_2, inplace=True)\n",
        "\n",
        "data_df.reset_index(drop=True, inplace=True)"
      ]
    },
    {
      "cell_type": "code",
      "execution_count": null,
      "metadata": {
        "colab": {
          "base_uri": "https://localhost:8080/"
        },
        "id": "3NDBk3799GoF",
        "outputId": "202aed15-7ef1-4db8-8528-cf2616faa086"
      },
      "outputs": [
        {
          "name": "stdout",
          "output_type": "stream",
          "text": [
            "Container Ship    182\n",
            "Bulk Carrier      140\n",
            "Tanker            128\n",
            "Name: elaborated_type, dtype: int64\n"
          ]
        }
      ],
      "source": [
        "print(data_df['elaborated_type'].value_counts())"
      ]
    },
    {
      "cell_type": "code",
      "execution_count": null,
      "metadata": {
        "id": "x358JfYQJM4m"
      },
      "outputs": [],
      "source": [
        "import numpy as np\n",
        "import pandas as pd\n",
        "import os\n",
        "\n",
        "file_paths = []\n",
        "bb_arrays = []\n",
        "\n",
        "# Iterate through the DataFrame\n",
        "for index, row in data_df.iterrows():\n",
        "    vv_arr = row['vv_arr']\n",
        "    class_label = row['elaborated_type']\n",
        "    bb = row['bb_array']\n",
        "\n",
        "    # Create folder if it doesn't exist\n",
        "    folder_path = os.path.join('.', class_label)\n",
        "    if not os.path.exists(folder_path):\n",
        "        os.makedirs(folder_path)\n",
        "\n",
        "    # Save VV_arr as .npy file\n",
        "    file_path = os.path.join(folder_path, f'{index}.npy')\n",
        "\n",
        "    file_paths.append(file_path)\n",
        "    bb_arrays.append(bb)\n",
        "\n",
        "    np.save(file_path, vv_arr)\n",
        "\n",
        "boundingbox_df = pd.DataFrame({'path': file_paths, 'bb_array': bb_arrays})\n",
        "\n"
      ]
    },
    {
      "cell_type": "code",
      "execution_count": null,
      "metadata": {
        "id": "8vrHRCWI3qEh"
      },
      "outputs": [],
      "source": [
        "boundingbox_df.to_csv('boundingbox.csv', index=False)"
      ]
    },
    {
      "cell_type": "code",
      "execution_count": null,
      "metadata": {
        "id": "05cdwiCNwNcG"
      },
      "outputs": [],
      "source": [
        "classes = {\n",
        "    'Container Ship': 0,\n",
        "    'Tanker': 1,\n",
        "    'Bulk Carrier': 2,\n",
        "}\n",
        "\n",
        "with open('class_mapping.txt', 'w') as file:\n",
        "    file.write(\"catename,label\\n\")\n",
        "    for class_name, label in classes.items():\n",
        "        file.write(f\"{class_name},{label}\\n\")\n"
      ]
    },
    {
      "cell_type": "code",
      "execution_count": null,
      "metadata": {
        "id": "3MrYfRn93EqX"
      },
      "outputs": [],
      "source": [
        "# Generate text file containing path and category\n",
        "\n",
        "import os\n",
        "\n",
        "root_directory = '/content'  # Replace with the path to your root directory\n",
        "\n",
        "with open('file_paths_all.txt', 'w') as file:\n",
        "    file.write(\"path,catename\\n\")\n",
        "\n",
        "    # Iterate over subfolders in the root directory\n",
        "    for folder_name in ['Container Ship', 'Bulk Carrier', 'Tanker']:\n",
        "        folder_path = os.path.join(root_directory, folder_name)\n",
        "\n",
        "        # Iterate over files in the subfolder\n",
        "        for file_name in os.listdir(folder_path):\n",
        "            if file_name.endswith('.npy'):\n",
        "                file_path = os.path.join(folder_path, file_name)\n",
        "                file.write(f\"{file_path},{folder_name}\\n\")\n",
        "\n",
        "\n",
        "\n"
      ]
    },
    {
      "cell_type": "code",
      "execution_count": null,
      "metadata": {
        "colab": {
          "base_uri": "https://localhost:8080/"
        },
        "id": "1TwrxbGELRzN",
        "outputId": "0a47c91d-5c07-4a4c-e9c2-3adfe2b05e83"
      },
      "outputs": [
        {
          "name": "stdout",
          "output_type": "stream",
          "text": [
            "35 415\n",
            "35 415\n"
          ]
        }
      ],
      "source": [
        "\n",
        "def gen_train_val(data_root, val_ratio, case):\n",
        "\n",
        "    df_train = pd.DataFrame(columns=['path', 'catename'])\n",
        "    df_val = pd.DataFrame(columns=['path', 'catename'])\n",
        "\n",
        "    for cate in os.listdir(data_root):\n",
        "        data_list = os.listdir(data_root + cate)\n",
        "        random.shuffle(data_list)\n",
        "        val_num = int(len(data_list) * val_ratio)\n",
        "        for i, item in enumerate(data_list):\n",
        "            if i < val_num:\n",
        "                df_val.loc[len(df_val) + 1] = [cate + '/' + item, cate]\n",
        "            else:\n",
        "                df_train.loc[len(df_train) + 1] = [cate + '/' + item, cate]\n",
        "\n",
        "    print(len(df_val), len(df_train))\n",
        "\n",
        "    if case==\"slc\":\n",
        "      df_train.to_csv('/content/slc_train.txt', index=False)\n",
        "      df_val.to_csv('/content/slc_val.txt', index=False)\n",
        "    else:\n",
        "      df_train.to_csv('./cae_train.txt', index=False)\n",
        "      df_val.to_csv('./cae_val.txt', index=False)\n",
        "\n",
        "gen_train_val('/content/Classes/', val_ratio=0.08, case=\"spec\")\n",
        "gen_train_val('/content/Classes/', val_ratio=0.08, case=\"slc\")\n",
        "\n",
        "\n",
        "\n",
        "\n",
        "\n"
      ]
    },
    {
      "cell_type": "code",
      "execution_count": null,
      "metadata": {
        "id": "O0uGkD_n7V7C"
      },
      "outputs": [],
      "source": [
        "!zip -r 'Classes.zip' '/content/Classes'\n",
        "\n"
      ]
    },
    {
      "cell_type": "code",
      "execution_count": null,
      "metadata": {
        "colab": {
          "base_uri": "https://localhost:8080/",
          "height": 17
        },
        "id": "7Cz8o7G990sY",
        "outputId": "888ecae3-4576-4414-9fbb-326ebb7459bc"
      },
      "outputs": [
        {
          "data": {
            "application/javascript": "\n    async function download(id, filename, size) {\n      if (!google.colab.kernel.accessAllowed) {\n        return;\n      }\n      const div = document.createElement('div');\n      const label = document.createElement('label');\n      label.textContent = `Downloading \"${filename}\": `;\n      div.appendChild(label);\n      const progress = document.createElement('progress');\n      progress.max = size;\n      div.appendChild(progress);\n      document.body.appendChild(div);\n\n      const buffers = [];\n      let downloaded = 0;\n\n      const channel = await google.colab.kernel.comms.open(id);\n      // Send a message to notify the kernel that we're ready.\n      channel.send({})\n\n      for await (const message of channel.messages) {\n        // Send a message to notify the kernel that we're ready.\n        channel.send({})\n        if (message.buffers) {\n          for (const buffer of message.buffers) {\n            buffers.push(buffer);\n            downloaded += buffer.byteLength;\n            progress.value = downloaded;\n          }\n        }\n      }\n      const blob = new Blob(buffers, {type: 'application/binary'});\n      const a = document.createElement('a');\n      a.href = window.URL.createObjectURL(blob);\n      a.download = filename;\n      div.appendChild(a);\n      a.click();\n      div.remove();\n    }\n  ",
            "text/plain": [
              "<IPython.core.display.Javascript object>"
            ]
          },
          "metadata": {},
          "output_type": "display_data"
        },
        {
          "data": {
            "application/javascript": "download(\"download_ccbdc701-7fcc-45d7-a8c8-f8bcc97eb46f\", \"Classes.zip\", 6580080)",
            "text/plain": [
              "<IPython.core.display.Javascript object>"
            ]
          },
          "metadata": {},
          "output_type": "display_data"
        }
      ],
      "source": [
        "from google.colab import files\n",
        "files.download('Classes.zip')"
      ]
    }
  ],
  "metadata": {
    "colab": {
      "gpuType": "T4",
      "provenance": []
    },
    "kernelspec": {
      "display_name": "Python 3",
      "name": "python3"
    },
    "language_info": {
      "name": "python"
    }
  },
  "nbformat": 4,
  "nbformat_minor": 0
}
